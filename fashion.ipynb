{
 "cells": [
  {
   "cell_type": "code",
   "execution_count": 2,
   "metadata": {},
   "outputs": [],
   "source": [
    "from plotly.subplots import make_subplots\n",
    "import plotly.graph_objects as go\n",
    "from jupyter_dash import JupyterDash\n",
    "from dash import dash_table\n",
    "from dash import dcc , html, dash_table\n",
    "from dash.dependencies import Input, Output\n",
    "\n",
    "from dash.dash_table.Format import Format, Scheme, Sign, Symbol\n",
    "from dash.dash_table import FormatTemplate\n",
    "import pandas as pd\n",
    "import sqlite3 as sl3\n",
    "#print(plotly.version)"
   ]
  },
  {
   "cell_type": "markdown",
   "metadata": {},
   "source": []
  },
  {
   "cell_type": "code",
   "execution_count": 6,
   "metadata": {},
   "outputs": [],
   "source": [
    "#JupyterDash.infer_jupyter_proxy_config()  #  Need this for binder to work."
   ]
  },
  {
   "cell_type": "code",
   "execution_count": 3,
   "metadata": {},
   "outputs": [],
   "source": [
    "conn = sl3.connect('fash.db')\n",
    "qry = \"select * from sales\"\n",
    "df = pd.read_sql(qry, con=conn)\n",
    "#df.to_csv('fashion.csv',index=False)\n",
    "\n",
    "prod_des = 100 *  \\\n",
    "            pd.crosstab(index = df['product'], columns=df['designer'],margins= False,normalize= 'index')\n",
    "\n",
    "#columns =  [{\"name\": i, \"id\": i,'type':'numeric','format':Format(precision=4)} for i in prod_des.columns]\n",
    "money = FormatTemplate.money(2)\n",
    "columns =  [{\"name\": i, \"id\": i,'type':'numeric','format':money} for i in prod_des.columns]\n",
    "\n",
    "app = JupyterDash(__name__)\n",
    "app.layout = html.Div([\n",
    "    html.H1(\"Fashion Demo\"),\n",
    "      dash_table.DataTable(\n",
    "        id='table',\n",
    "        columns=columns,\n",
    "        data=prod_des.to_dict('records'),\n",
    "        style_cell=dict(textAlign='right'),\n",
    "        style_header=dict(backgroundColor=\"paleturquoise\"),\n",
    "        style_data=dict(backgroundColor=\"lavender\")\n",
    "    ),\n",
    "    html.H2(),\n",
    "     html.Label([\n",
    "        \"Choose brand\",\n",
    "        dcc.Dropdown(\n",
    "            id='brand', clearable=False,\n",
    "            value='Zegna', options=[{'label': c, 'value': c} for c in set(df['designer'])\n",
    "            ]),\n",
    "    html.H3(),     \n",
    "    html.Label([\n",
    "        \"Choose price cutoff\",\n",
    "        dcc.Dropdown(\n",
    "            id='prc', clearable=False,\n",
    "            value=10.00, options=[{'label':10.00,'value':10.00},{'label':12.00,'value':12.00},{'label':20.00,'value':20.00}]),\n",
    "    html.Div(children=[\n",
    "        dcc.Graph(id=\"graph\")\n",
    "    ]),   \n",
    "    ]),\n",
    "])  ])  \n",
    "\n"
   ]
  },
  {
   "cell_type": "code",
   "execution_count": 4,
   "metadata": {},
   "outputs": [
    {
     "data": {
      "text/html": [
       "\n",
       "        <iframe\n",
       "            width=\"100%\"\n",
       "            height=\"650\"\n",
       "            src=\"http://127.0.0.1:8050/\"\n",
       "            frameborder=\"0\"\n",
       "            allowfullscreen\n",
       "            \n",
       "        ></iframe>\n",
       "        "
      ],
      "text/plain": [
       "<IPython.lib.display.IFrame at 0x7fb647179a20>"
      ]
     },
     "metadata": {},
     "output_type": "display_data"
    },
    {
     "name": "stdout",
     "output_type": "stream",
     "text": [
      "\u001b[1;31m---------------------------------------------------------------------------\u001b[0m\n",
      "\u001b[1;31mClientDisconnected\u001b[0m                        Traceback (most recent call last)\n",
      "File \u001b[1;32m/opt/python/3.10.4/lib/python3.10/site-packages/flask/app.py:1523\u001b[0m, in \u001b[0;36mFlask.full_dispatch_request\u001b[1;34m(self=<Flask '__main__'>)\u001b[0m\n",
      "\u001b[0;32m   1521\u001b[0m     rv \u001b[38;5;241m=\u001b[39m \u001b[38;5;28mself\u001b[39m\u001b[38;5;241m.\u001b[39mpreprocess_request()\n",
      "\u001b[0;32m   1522\u001b[0m     \u001b[38;5;28;01mif\u001b[39;00m rv \u001b[38;5;129;01mis\u001b[39;00m \u001b[38;5;28;01mNone\u001b[39;00m:\n",
      "\u001b[1;32m-> 1523\u001b[0m         rv \u001b[38;5;241m=\u001b[39m \u001b[38;5;28;43mself\u001b[39;49m\u001b[38;5;241;43m.\u001b[39;49m\u001b[43mdispatch_request\u001b[49m\u001b[43m(\u001b[49m\u001b[43m)\u001b[49m\n",
      "        rv \u001b[1;34m= None\u001b[0m\u001b[1;34m\n",
      "        \u001b[0mself \u001b[1;34m= <Flask '__main__'>\u001b[0m\n",
      "\u001b[0;32m   1524\u001b[0m \u001b[38;5;28;01mexcept\u001b[39;00m \u001b[38;5;167;01mException\u001b[39;00m \u001b[38;5;28;01mas\u001b[39;00m e:\n",
      "\u001b[0;32m   1525\u001b[0m     rv \u001b[38;5;241m=\u001b[39m \u001b[38;5;28mself\u001b[39m\u001b[38;5;241m.\u001b[39mhandle_user_exception(e)\n",
      "\n",
      "File \u001b[1;32m/opt/python/3.10.4/lib/python3.10/site-packages/flask/app.py:1509\u001b[0m, in \u001b[0;36mFlask.dispatch_request\u001b[1;34m(self=<Flask '__main__'>)\u001b[0m\n",
      "\u001b[0;32m   1507\u001b[0m     \u001b[38;5;28;01mreturn\u001b[39;00m \u001b[38;5;28mself\u001b[39m\u001b[38;5;241m.\u001b[39mmake_default_options_response()\n",
      "\u001b[0;32m   1508\u001b[0m \u001b[38;5;66;03m# otherwise dispatch to the handler for that endpoint\u001b[39;00m\n",
      "\u001b[1;32m-> 1509\u001b[0m \u001b[38;5;28;01mreturn\u001b[39;00m \u001b[38;5;28;43mself\u001b[39;49m\u001b[38;5;241;43m.\u001b[39;49m\u001b[43mensure_sync\u001b[49m\u001b[43m(\u001b[49m\u001b[38;5;28;43mself\u001b[39;49m\u001b[38;5;241;43m.\u001b[39;49m\u001b[43mview_functions\u001b[49m\u001b[43m[\u001b[49m\u001b[43mrule\u001b[49m\u001b[38;5;241;43m.\u001b[39;49m\u001b[43mendpoint\u001b[49m\u001b[43m]\u001b[49m\u001b[43m)\u001b[49m\u001b[43m(\u001b[49m\u001b[38;5;241;43m*\u001b[39;49m\u001b[38;5;241;43m*\u001b[39;49m\u001b[43mreq\u001b[49m\u001b[38;5;241;43m.\u001b[39;49m\u001b[43mview_args\u001b[49m\u001b[43m)\u001b[49m\n",
      "        req \u001b[1;34m= <Request 'http://localhost/_dash-update-component' [POST]>\u001b[0m\u001b[1;34m\n",
      "        \u001b[0mrule \u001b[1;34m= <Rule '/_dash-update-component' (POST, OPTIONS) -> /_dash-update-component>\u001b[0m\u001b[1;34m\n",
      "        \u001b[0mself.view_functions[rule.endpoint] \u001b[1;34m= <bound method Dash.dispatch of <jupyter_dash.jupyter_app.JupyterDash object at 0x7fb647178550>>\u001b[0m\u001b[1;34m\n",
      "        \u001b[0mreq.view_args \u001b[1;34m= {}\u001b[0m\u001b[1;34m\n",
      "        \u001b[0mself \u001b[1;34m= <Flask '__main__'>\u001b[0m\u001b[1;34m\n",
      "        \u001b[0mself.view_functions \u001b[1;34m= {'static': <function Flask.__init__.<locals>.<lambda> at 0x7fb6783e9f30>, '_dash_assets.static': <bound method Scaffold.send_static_file of <Blueprint '_dash_assets'>>, '/_dash-component-suites/<string:package_name>/<path:fingerprinted_path>': <bound method Dash.serve_component_suites of <jupyter_dash.jupyter_app.JupyterDash object at 0x7fb647178550>>, '/_dash-layout': <bound method Dash.serve_layout of <jupyter_dash.jupyter_app.JupyterDash object at 0x7fb647178550>>, '/_dash-dependencies': <bound method Dash.dependencies of <jupyter_dash.jupyter_app.JupyterDash object at 0x7fb647178550>>, '/_dash-update-component': <bound method Dash.dispatch of <jupyter_dash.jupyter_app.JupyterDash object at 0x7fb647178550>>, '/_reload-hash': <bound method Dash.serve_reload_hash of <jupyter_dash.jupyter_app.JupyterDash object at 0x7fb647178550>>, '/_favicon.ico': <function Dash._serve_default_favicon at 0x7fb65b70a680>, '/': <bound method Dash.index of <jupyter_dash.jupyter_app.JupyterDash object at 0x7fb647178550>>, '/<path:path>': <bound method Dash.index of <jupyter_dash.jupyter_app.JupyterDash object at 0x7fb647178550>>, 'alive': <function JupyterDash.__init__.<locals>.alive at 0x7fb6471627a0>}\u001b[0m\u001b[1;34m\n",
      "        \u001b[0mrule.endpoint \u001b[1;34m= '/_dash-update-component'\u001b[0m\n",
      "\n",
      "File \u001b[1;32m/opt/python/3.10.4/lib/python3.10/site-packages/dash/dash.py:1300\u001b[0m, in \u001b[0;36mDash.dispatch\u001b[1;34m(\n",
      "    self=<jupyter_dash.jupyter_app.JupyterDash object>\n",
      ")\u001b[0m\n",
      "\u001b[0;32m   1299\u001b[0m \u001b[38;5;28;01mdef\u001b[39;00m \u001b[38;5;21mdispatch\u001b[39m(\u001b[38;5;28mself\u001b[39m):\n",
      "\u001b[1;32m-> 1300\u001b[0m     body \u001b[38;5;241m=\u001b[39m \u001b[43mflask\u001b[49m\u001b[38;5;241;43m.\u001b[39;49m\u001b[43mrequest\u001b[49m\u001b[38;5;241;43m.\u001b[39;49m\u001b[43mget_json\u001b[49m\u001b[43m(\u001b[49m\u001b[43m)\u001b[49m\n",
      "        flask.request \u001b[1;34m= <Request 'http://localhost/_dash-update-component' [POST]>\u001b[0m\n",
      "\u001b[0;32m   1302\u001b[0m     flask\u001b[38;5;241m.\u001b[39mg\u001b[38;5;241m.\u001b[39minputs_list \u001b[38;5;241m=\u001b[39m inputs \u001b[38;5;241m=\u001b[39m body\u001b[38;5;241m.\u001b[39mget(  \u001b[38;5;66;03m# pylint: disable=assigning-non-slot\u001b[39;00m\n",
      "\u001b[0;32m   1303\u001b[0m         \u001b[38;5;124m\"\u001b[39m\u001b[38;5;124minputs\u001b[39m\u001b[38;5;124m\"\u001b[39m, []\n",
      "\u001b[0;32m   1304\u001b[0m     )\n",
      "\u001b[0;32m   1305\u001b[0m     flask\u001b[38;5;241m.\u001b[39mg\u001b[38;5;241m.\u001b[39mstates_list \u001b[38;5;241m=\u001b[39m state \u001b[38;5;241m=\u001b[39m body\u001b[38;5;241m.\u001b[39mget(  \u001b[38;5;66;03m# pylint: disable=assigning-non-slot\u001b[39;00m\n",
      "\u001b[0;32m   1306\u001b[0m         \u001b[38;5;124m\"\u001b[39m\u001b[38;5;124mstate\u001b[39m\u001b[38;5;124m\"\u001b[39m, []\n",
      "\u001b[0;32m   1307\u001b[0m     )\n",
      "\n",
      "File \u001b[1;32m/opt/python/3.10.4/lib/python3.10/site-packages/werkzeug/wrappers/request.py:575\u001b[0m, in \u001b[0;36mRequest.get_json\u001b[1;34m(\n",
      "    self=<Request 'http://localhost/_dash-update-component' [POST]>,\n",
      "    force=False,\n",
      "    silent=False,\n",
      "    cache=True\n",
      ")\u001b[0m\n",
      "\u001b[0;32m    572\u001b[0m     \u001b[38;5;28;01melse\u001b[39;00m:\n",
      "\u001b[0;32m    573\u001b[0m         \u001b[38;5;28;01mreturn\u001b[39;00m \u001b[38;5;28;01mNone\u001b[39;00m\n",
      "\u001b[1;32m--> 575\u001b[0m data \u001b[38;5;241m=\u001b[39m \u001b[38;5;28;43mself\u001b[39;49m\u001b[38;5;241;43m.\u001b[39;49m\u001b[43mget_data\u001b[49m\u001b[43m(\u001b[49m\u001b[43mcache\u001b[49m\u001b[38;5;241;43m=\u001b[39;49m\u001b[43mcache\u001b[49m\u001b[43m)\u001b[49m\n",
      "        cache \u001b[1;34m= True\u001b[0m\u001b[1;34m\n",
      "        \u001b[0mself \u001b[1;34m= <Request 'http://localhost/_dash-update-component' [POST]>\u001b[0m\n",
      "\u001b[0;32m    577\u001b[0m \u001b[38;5;28;01mtry\u001b[39;00m:\n",
      "\u001b[0;32m    578\u001b[0m     rv \u001b[38;5;241m=\u001b[39m \u001b[38;5;28mself\u001b[39m\u001b[38;5;241m.\u001b[39mjson_module\u001b[38;5;241m.\u001b[39mloads(data)\n",
      "\n",
      "File \u001b[1;32m/opt/python/3.10.4/lib/python3.10/site-packages/werkzeug/wrappers/request.py:405\u001b[0m, in \u001b[0;36mRequest.get_data\u001b[1;34m(\n",
      "    self=<Request 'http://localhost/_dash-update-component' [POST]>,\n",
      "    cache=True,\n",
      "    as_text=False,\n",
      "    parse_form_data=False\n",
      ")\u001b[0m\n",
      "\u001b[0;32m    403\u001b[0m \u001b[38;5;28;01mif\u001b[39;00m parse_form_data:\n",
      "\u001b[0;32m    404\u001b[0m     \u001b[38;5;28mself\u001b[39m\u001b[38;5;241m.\u001b[39m_load_form_data()\n",
      "\u001b[1;32m--> 405\u001b[0m rv \u001b[38;5;241m=\u001b[39m \u001b[38;5;28;43mself\u001b[39;49m\u001b[38;5;241;43m.\u001b[39;49m\u001b[43mstream\u001b[49m\u001b[38;5;241;43m.\u001b[39;49m\u001b[43mread\u001b[49m\u001b[43m(\u001b[49m\u001b[43m)\u001b[49m\n",
      "        rv \u001b[1;34m= None\u001b[0m\u001b[1;34m\n",
      "        \u001b[0mself \u001b[1;34m= <Request 'http://localhost/_dash-update-component' [POST]>\u001b[0m\n",
      "\u001b[0;32m    406\u001b[0m \u001b[38;5;28;01mif\u001b[39;00m cache:\n",
      "\u001b[0;32m    407\u001b[0m     \u001b[38;5;28mself\u001b[39m\u001b[38;5;241m.\u001b[39m_cached_data \u001b[38;5;241m=\u001b[39m rv\n",
      "\n",
      "File \u001b[1;32m/opt/python/3.10.4/lib/python3.10/site-packages/werkzeug/wsgi.py:925\u001b[0m, in \u001b[0;36mLimitedStream.read\u001b[1;34m(\n",
      "    self=<werkzeug.wsgi.LimitedStream object>,\n",
      "    size=246\n",
      ")\u001b[0m\n",
      "\u001b[0;32m    923\u001b[0m     \u001b[38;5;28;01mreturn\u001b[39;00m \u001b[38;5;28mself\u001b[39m\u001b[38;5;241m.\u001b[39mon_disconnect()\n",
      "\u001b[0;32m    924\u001b[0m \u001b[38;5;28;01mif\u001b[39;00m to_read \u001b[38;5;129;01mand\u001b[39;00m \u001b[38;5;28mlen\u001b[39m(read) \u001b[38;5;241m!=\u001b[39m to_read:\n",
      "\u001b[1;32m--> 925\u001b[0m     \u001b[38;5;28;01mreturn\u001b[39;00m \u001b[38;5;28;43mself\u001b[39;49m\u001b[38;5;241;43m.\u001b[39;49m\u001b[43mon_disconnect\u001b[49m\u001b[43m(\u001b[49m\u001b[43m)\u001b[49m\n",
      "        self \u001b[1;34m= <werkzeug.wsgi.LimitedStream object at 0x7fb647076830>\u001b[0m\n",
      "\u001b[0;32m    926\u001b[0m \u001b[38;5;28mself\u001b[39m\u001b[38;5;241m.\u001b[39m_pos \u001b[38;5;241m+\u001b[39m\u001b[38;5;241m=\u001b[39m \u001b[38;5;28mlen\u001b[39m(read)\n",
      "\u001b[0;32m    927\u001b[0m \u001b[38;5;28;01mreturn\u001b[39;00m read\n",
      "\n",
      "File \u001b[1;32m/opt/python/3.10.4/lib/python3.10/site-packages/werkzeug/wsgi.py:893\u001b[0m, in \u001b[0;36mLimitedStream.on_disconnect\u001b[1;34m(\n",
      "    self=<werkzeug.wsgi.LimitedStream object>\n",
      ")\u001b[0m\n",
      "\u001b[0;32m    886\u001b[0m \u001b[38;5;124;03m\"\"\"What should happen if a disconnect is detected?  The return\u001b[39;00m\n",
      "\u001b[0;32m    887\u001b[0m \u001b[38;5;124;03mvalue of this function is returned from read functions in case\u001b[39;00m\n",
      "\u001b[0;32m    888\u001b[0m \u001b[38;5;124;03mthe client went away.  By default a\u001b[39;00m\n",
      "\u001b[0;32m    889\u001b[0m \u001b[38;5;124;03m:exc:`~werkzeug.exceptions.ClientDisconnected` exception is raised.\u001b[39;00m\n",
      "\u001b[0;32m    890\u001b[0m \u001b[38;5;124;03m\"\"\"\u001b[39;00m\n",
      "\u001b[0;32m    891\u001b[0m \u001b[38;5;28;01mfrom\u001b[39;00m \u001b[38;5;21;01m.\u001b[39;00m\u001b[38;5;21;01mexceptions\u001b[39;00m \u001b[38;5;28;01mimport\u001b[39;00m ClientDisconnected\n",
      "\u001b[1;32m--> 893\u001b[0m \u001b[38;5;28;01mraise\u001b[39;00m ClientDisconnected()\n",
      "\n",
      "\u001b[1;31mClientDisconnected\u001b[0m: 400 Bad Request: The browser (or proxy) sent a request that this server could not understand.\n",
      "\n"
     ]
    }
   ],
   "source": [
    "@app.callback(Output('graph', 'figure'),Output('table','data'),Input(\"brand\", \"value\"),Input(\"prc\",\"value\") )   \n",
    "def stuff_figure(brand,prc):\n",
    "    fash = df[(df['designer']== brand) & (df['price'] > float(prc))]\n",
    "    fig = make_subplots(rows=1,cols=2,subplot_titles=('Fun and Games','Shits and Giggles'))\n",
    "    fig.add_trace(go.Bar(x=fash['product'],y=fash['day']), row=1, col=1)\n",
    "    fig.add_trace(go.Bar(x=fash['product'],y=fash['store'],orientation='h'), row=1, col=2)\n",
    "    dfa = df[df['price'] > float(prc)] \n",
    "    prod_des = 100 * pd.crosstab(index = dfa['product'], columns=dfa['designer'],margins= False,normalize= 'index')\n",
    "    return fig,prod_des.to_dict('records')\n",
    "   \n",
    "    \n",
    "\n",
    "\n",
    "app.run_server(mode='inline')"
   ]
  },
  {
   "cell_type": "code",
   "execution_count": null,
   "metadata": {},
   "outputs": [],
   "source": []
  }
 ],
 "metadata": {
  "interpreter": {
   "hash": "4f946df053fbf2b937619d3c5458e7af74262f9a954d8797ba0b27400bcafe06"
  },
  "kernelspec": {
   "display_name": "Python 3.10.4 64-bit",
   "language": "python",
   "name": "python3"
  },
  "language_info": {
   "codemirror_mode": {
    "name": "ipython",
    "version": 3
   },
   "file_extension": ".py",
   "mimetype": "text/x-python",
   "name": "python",
   "nbconvert_exporter": "python",
   "pygments_lexer": "ipython3",
   "version": "3.10.4"
  },
  "widgets": {
   "application/vnd.jupyter.widget-state+json": {
    "state": {},
    "version_major": 2,
    "version_minor": 0
   }
  }
 },
 "nbformat": 4,
 "nbformat_minor": 4
}
