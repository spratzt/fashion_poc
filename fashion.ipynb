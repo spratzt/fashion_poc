{
 "cells": [
  {
   "cell_type": "code",
   "execution_count": 1,
   "metadata": {},
   "outputs": [
    {
     "data": {
      "text/html": [
       "\n",
       "        <iframe\n",
       "            width=\"100%\"\n",
       "            height=\"650\"\n",
       "            src=\"http://127.0.0.1:8050/\"\n",
       "            frameborder=\"0\"\n",
       "            allowfullscreen\n",
       "        ></iframe>\n",
       "        "
      ],
      "text/plain": [
       "<IPython.lib.display.IFrame at 0x18c23b67fa0>"
      ]
     },
     "metadata": {},
     "output_type": "display_data"
    }
   ],
   "source": [
    "import plotly.express as px\n",
    "from jupyter_dash import JupyterDash\n",
    "import dash_core_components as dcc\n",
    "import dash_html_components as html\n",
    "from dash.dependencies import Input, Output\n",
    "import numpy as np\n",
    "import pandas as pd\n",
    "import sidetable\n",
    "import sqlite3 as sl3\n",
    "\n",
    "conn = sl3.connect('fash.db')\n",
    "qry = \"select * from sales\"\n",
    "df = pd.read_sql(qry, con=conn)\n",
    "\n",
    "prod_des = 100 *  \\\n",
    "            pd.crosstab(index = df['product'], columns=df['designer'],margins= False,normalize= 'index')\n",
    "\n",
    "\n",
    "\n",
    "\n",
    "app = JupyterDash(__name__)\n",
    "app.layout = html.Div([\n",
    "    html.H1(\"Fashion Demo\"),\n",
    "    dcc.Graph(id='graph'),\n",
    "    html.Label([\n",
    "        \"Choose brand\",\n",
    "        dcc.Dropdown(\n",
    "            id='brand', clearable=False,\n",
    "            value='Zegna', options=[{'label': c, 'value': c} for c in set(df['designer'])\n",
    "            ]),\n",
    "    ]),\n",
    "])\n",
    "\n",
    "@app.callback(\n",
    "    Output('graph', 'figure'),\n",
    "    [Input(\"brand\", \"value\")]\n",
    ")\n",
    "\n",
    "def update_figure(brand):\n",
    "    df_sel = df[df['designer']== brand]\n",
    "    return px.bar(df_sel, x=\"product\", y=\"day\", color=\"product\",\n",
    "           title=\"Products and Brands\",orientation='h')\n",
    "\n",
    "\n",
    "\n",
    "app.run_server(mode='inline')"
   ]
  },
  {
   "cell_type": "code",
   "execution_count": null,
   "metadata": {},
   "outputs": [],
   "source": []
  }
 ],
 "metadata": {
  "kernelspec": {
   "display_name": "Python 3",
   "language": "python",
   "name": "python3"
  },
  "language_info": {
   "codemirror_mode": {
    "name": "ipython",
    "version": 3
   },
   "file_extension": ".py",
   "mimetype": "text/x-python",
   "name": "python",
   "nbconvert_exporter": "python",
   "pygments_lexer": "ipython3",
   "version": "3.8.8"
  },
  "widgets": {
   "application/vnd.jupyter.widget-state+json": {
    "state": {},
    "version_major": 2,
    "version_minor": 0
   }
  }
 },
 "nbformat": 4,
 "nbformat_minor": 4
}
