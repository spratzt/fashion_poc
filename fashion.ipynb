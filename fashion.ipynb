{
 "cells": [
  {
   "cell_type": "code",
   "execution_count": 1,
   "metadata": {},
   "outputs": [],
   "source": [
    "from plotly.subplots import make_subplots\n",
    "import plotly.graph_objects as go\n",
    "from jupyter_dash import JupyterDash\n",
    "import dash_core_components as dcc\n",
    "import dash_html_components as html\n",
    "from dash.dependencies import Input, Output\n",
    "import pandas as pd\n",
    "import sqlite3 as sl3\n"
   ]
  },
  {
   "cell_type": "code",
   "execution_count": null,
   "metadata": {},
   "outputs": [],
   "source": [
    "JupyterDash.infer_jupyter_proxy_config()  #  Need this for binder to work."
   ]
  },
  {
   "cell_type": "code",
   "execution_count": 2,
   "metadata": {},
   "outputs": [],
   "source": [
    "conn = sl3.connect('fash.db')\n",
    "qry = \"select * from sales\"\n",
    "df = pd.read_sql(qry, con=conn)\n",
    "\n",
    "prod_des = 100 *  \\\n",
    "            pd.crosstab(index = df['product'], columns=df['designer'],margins= False,normalize= 'index')\n",
    "\n",
    "\n",
    "\n",
    "\n",
    "app = JupyterDash(__name__)\n",
    "app.layout = html.Div([\n",
    "    html.H1(\"Fashion Demo\"),\n",
    "     html.Label([\n",
    "        \"Choose brand\",\n",
    "        dcc.Dropdown(\n",
    "            id='brand', clearable=False,\n",
    "            value='Zegna', options=[{'label': c, 'value': c} for c in set(df['designer'])\n",
    "            ]),\n",
    "    html.Label([\n",
    "        \"Choose price cutoff\",\n",
    "        dcc.Dropdown(\n",
    "            id='prc', clearable=False,\n",
    "            value=10.00, options=[{'label':10.00,'value':10.00},{'label':20.00,'value':20.00}\n",
    "            ]),\n",
    "    html.Div(children=[\n",
    "        dcc.Graph(id=\"graph\")\n",
    "    ]),   \n",
    "    ]),\n",
    "])  ])  "
   ]
  },
  {
   "cell_type": "code",
   "execution_count": 3,
   "metadata": {},
   "outputs": [
    {
     "data": {
      "text/html": [
       "\n",
       "        <iframe\n",
       "            width=\"100%\"\n",
       "            height=\"650\"\n",
       "            src=\"http://127.0.0.1:8050/\"\n",
       "            frameborder=\"0\"\n",
       "            allowfullscreen\n",
       "        ></iframe>\n",
       "        "
      ],
      "text/plain": [
       "<IPython.lib.display.IFrame at 0x18ce2f02fa0>"
      ]
     },
     "metadata": {},
     "output_type": "display_data"
    }
   ],
   "source": [
    "@app.callback(Output('graph', 'figure'),Input(\"brand\", \"value\"),Input(\"prc\",\"value\") )   \n",
    "def update_figure(brand,prc):\n",
    "    fash = df[(df['designer']== brand) & (df['price'] > float(prc))]\n",
    "    fig = make_subplots(rows=1,cols=2,subplot_titles=('Plot 1','Plot 2'))\n",
    "    fig.add_trace(go.Bar(x=fash['product'],y=fash['day']), row=1, col=1)\n",
    "    fig.add_trace(go.Bar(x=fash['product'],y=fash['store'],orientation='h'), row=1, col=2)\n",
    "    return fig\n",
    "   \n",
    "    \n",
    "\n",
    "\n",
    "app.run_server(mode='inline')"
   ]
  },
  {
   "cell_type": "code",
   "execution_count": null,
   "metadata": {},
   "outputs": [],
   "source": []
  }
 ],
 "metadata": {
  "kernelspec": {
   "display_name": "Python 3",
   "language": "python",
   "name": "python3"
  },
  "language_info": {
   "codemirror_mode": {
    "name": "ipython",
    "version": 3
   },
   "file_extension": ".py",
   "mimetype": "text/x-python",
   "name": "python",
   "nbconvert_exporter": "python",
   "pygments_lexer": "ipython3",
   "version": "3.8.8"
  },
  "widgets": {
   "application/vnd.jupyter.widget-state+json": {
    "state": {},
    "version_major": 2,
    "version_minor": 0
   }
  }
 },
 "nbformat": 4,
 "nbformat_minor": 4
}
