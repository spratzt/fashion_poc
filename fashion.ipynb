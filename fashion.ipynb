{
 "cells": [
  {
   "cell_type": "code",
   "execution_count": 2,
   "metadata": {},
   "outputs": [
    {
     "name": "stdout",
     "output_type": "stream",
     "text": [
      "Collecting plotly\n",
      "  Downloading plotly-5.8.0-py2.py3-none-any.whl (15.2 MB)\n",
      "\u001b[2K     \u001b[90m━━━━━━━━━━━━━━━━━━━━━━━━━━━━━━━━━━━━━━━━\u001b[0m \u001b[32m15.2/15.2 MB\u001b[0m \u001b[31m59.2 MB/s\u001b[0m eta \u001b[36m0:00:00\u001b[0m00:01\u001b[0m00:01\u001b[0m\n",
      "\u001b[?25hCollecting tenacity>=6.2.0\n",
      "  Downloading tenacity-8.0.1-py3-none-any.whl (24 kB)\n",
      "Installing collected packages: tenacity, plotly\n",
      "Successfully installed plotly-5.8.0 tenacity-8.0.1\n",
      "\u001b[33mWARNING: There was an error checking the latest version of pip.\u001b[0m\u001b[33m\n",
      "\u001b[0mNote: you may need to restart the kernel to use updated packages.\n",
      "Collecting dash\n",
      "  Downloading dash-2.4.1-py3-none-any.whl (9.8 MB)\n",
      "\u001b[2K     \u001b[90m━━━━━━━━━━━━━━━━━━━━━━━━━━━━━━━━━━━━━━━━\u001b[0m \u001b[32m9.8/9.8 MB\u001b[0m \u001b[31m69.7 MB/s\u001b[0m eta \u001b[36m0:00:00\u001b[0m:00:01\u001b[0m00:01\u001b[0m\n",
      "\u001b[?25hCollecting dash-core-components==2.0.0\n",
      "  Downloading dash_core_components-2.0.0-py3-none-any.whl (3.8 kB)\n",
      "Collecting dash-table==5.0.0\n",
      "  Downloading dash_table-5.0.0-py3-none-any.whl (3.9 kB)\n",
      "Collecting Flask>=1.0.4\n",
      "  Downloading Flask-2.1.2-py3-none-any.whl (95 kB)\n",
      "\u001b[2K     \u001b[90m━━━━━━━━━━━━━━━━━━━━━━━━━━━━━━━━━━━━━━━━\u001b[0m \u001b[32m95.2/95.2 kB\u001b[0m \u001b[31m3.6 MB/s\u001b[0m eta \u001b[36m0:00:00\u001b[0m\n",
      "\u001b[?25hCollecting dash-html-components==2.0.0\n",
      "  Downloading dash_html_components-2.0.0-py3-none-any.whl (4.1 kB)\n",
      "Collecting flask-compress\n",
      "  Downloading Flask_Compress-1.12-py3-none-any.whl (7.9 kB)\n",
      "Requirement already satisfied: plotly>=5.0.0 in /opt/python/3.10.4/lib/python3.10/site-packages (from dash) (5.8.0)\n",
      "Requirement already satisfied: Werkzeug>=2.0 in /opt/python/3.10.4/lib/python3.10/site-packages (from Flask>=1.0.4->dash) (2.1.2)\n",
      "Collecting click>=8.0\n",
      "  Downloading click-8.1.3-py3-none-any.whl (96 kB)\n",
      "\u001b[2K     \u001b[90m━━━━━━━━━━━━━━━━━━━━━━━━━━━━━━━━━━━━━━━━\u001b[0m \u001b[32m96.6/96.6 kB\u001b[0m \u001b[31m4.2 MB/s\u001b[0m eta \u001b[36m0:00:00\u001b[0m\n",
      "\u001b[?25hRequirement already satisfied: Jinja2>=3.0 in /opt/python/3.10.4/lib/python3.10/site-packages (from Flask>=1.0.4->dash) (3.1.2)\n",
      "Collecting itsdangerous>=2.0\n",
      "  Downloading itsdangerous-2.1.2-py3-none-any.whl (15 kB)\n",
      "Requirement already satisfied: tenacity>=6.2.0 in /opt/python/3.10.4/lib/python3.10/site-packages (from plotly>=5.0.0->dash) (8.0.1)\n",
      "Collecting brotli\n",
      "  Downloading Brotli-1.0.9-cp310-cp310-manylinux_2_5_x86_64.manylinux1_x86_64.manylinux_2_12_x86_64.manylinux2010_x86_64.whl (2.7 MB)\n",
      "\u001b[2K     \u001b[90m━━━━━━━━━━━━━━━━━━━━━━━━━━━━━━━━━━━━━━━━\u001b[0m \u001b[32m2.7/2.7 MB\u001b[0m \u001b[31m50.7 MB/s\u001b[0m eta \u001b[36m0:00:00\u001b[0m:00:01\u001b[0m\n",
      "\u001b[?25hRequirement already satisfied: MarkupSafe>=2.0 in /opt/python/3.10.4/lib/python3.10/site-packages (from Jinja2>=3.0->Flask>=1.0.4->dash) (2.1.1)\n",
      "Installing collected packages: dash-table, dash-html-components, dash-core-components, brotli, itsdangerous, click, Flask, flask-compress, dash\n",
      "\u001b[33m  WARNING: The script flask is installed in '/opt/python/3.10.4/bin' which is not on PATH.\n",
      "  Consider adding this directory to PATH or, if you prefer to suppress this warning, use --no-warn-script-location.\u001b[0m\u001b[33m\n",
      "\u001b[0m\u001b[33m  WARNING: The scripts dash-generate-components, dash-update-components and renderer are installed in '/opt/python/3.10.4/bin' which is not on PATH.\n",
      "  Consider adding this directory to PATH or, if you prefer to suppress this warning, use --no-warn-script-location.\u001b[0m\u001b[33m\n",
      "\u001b[0mSuccessfully installed Flask-2.1.2 brotli-1.0.9 click-8.1.3 dash-2.4.1 dash-core-components-2.0.0 dash-html-components-2.0.0 dash-table-5.0.0 flask-compress-1.12 itsdangerous-2.1.2\n",
      "\u001b[33mWARNING: There was an error checking the latest version of pip.\u001b[0m\u001b[33m\n",
      "\u001b[0mNote: you may need to restart the kernel to use updated packages.\n"
     ]
    }
   ],
   "source": [
    "%pip install plotly\n",
    "%pip install dash\n"
   ]
  },
  {
   "cell_type": "code",
   "execution_count": 3,
   "metadata": {},
   "outputs": [
    {
     "name": "stdout",
     "output_type": "stream",
     "text": [
      "Collecting jupyter_dash\n",
      "  Downloading jupyter_dash-0.4.2-py3-none-any.whl (23 kB)\n",
      "Requirement already satisfied: dash in /opt/python/3.10.4/lib/python3.10/site-packages (from jupyter_dash) (2.4.1)\n",
      "Requirement already satisfied: ipython in /opt/python/3.10.4/lib/python3.10/site-packages (from jupyter_dash) (8.3.0)\n",
      "Collecting ansi2html\n",
      "  Downloading ansi2html-1.7.0-py3-none-any.whl (15 kB)\n",
      "Requirement already satisfied: nest-asyncio in /opt/python/3.10.4/lib/python3.10/site-packages (from jupyter_dash) (1.5.5)\n",
      "Requirement already satisfied: flask in /opt/python/3.10.4/lib/python3.10/site-packages (from jupyter_dash) (2.1.2)\n",
      "Requirement already satisfied: requests in /opt/python/3.10.4/lib/python3.10/site-packages (from jupyter_dash) (2.27.1)\n",
      "Collecting retrying\n",
      "  Downloading retrying-1.3.3.tar.gz (10 kB)\n",
      "  Preparing metadata (setup.py) ... \u001b[?25ldone\n",
      "\u001b[?25hRequirement already satisfied: ipykernel in /opt/python/3.10.4/lib/python3.10/site-packages (from jupyter_dash) (6.13.0)\n",
      "Requirement already satisfied: dash-html-components==2.0.0 in /opt/python/3.10.4/lib/python3.10/site-packages (from dash->jupyter_dash) (2.0.0)\n",
      "Requirement already satisfied: plotly>=5.0.0 in /opt/python/3.10.4/lib/python3.10/site-packages (from dash->jupyter_dash) (5.8.0)\n",
      "Requirement already satisfied: dash-table==5.0.0 in /opt/python/3.10.4/lib/python3.10/site-packages (from dash->jupyter_dash) (5.0.0)\n",
      "Requirement already satisfied: flask-compress in /opt/python/3.10.4/lib/python3.10/site-packages (from dash->jupyter_dash) (1.12)\n",
      "Requirement already satisfied: dash-core-components==2.0.0 in /opt/python/3.10.4/lib/python3.10/site-packages (from dash->jupyter_dash) (2.0.0)\n",
      "Requirement already satisfied: itsdangerous>=2.0 in /opt/python/3.10.4/lib/python3.10/site-packages (from flask->jupyter_dash) (2.1.2)\n",
      "Requirement already satisfied: click>=8.0 in /opt/python/3.10.4/lib/python3.10/site-packages (from flask->jupyter_dash) (8.1.3)\n",
      "Requirement already satisfied: Werkzeug>=2.0 in /opt/python/3.10.4/lib/python3.10/site-packages (from flask->jupyter_dash) (2.1.2)\n",
      "Requirement already satisfied: Jinja2>=3.0 in /opt/python/3.10.4/lib/python3.10/site-packages (from flask->jupyter_dash) (3.1.2)\n",
      "Requirement already satisfied: psutil in /opt/python/3.10.4/lib/python3.10/site-packages (from ipykernel->jupyter_dash) (5.9.0)\n",
      "Requirement already satisfied: tornado>=6.1 in /opt/python/3.10.4/lib/python3.10/site-packages (from ipykernel->jupyter_dash) (6.1)\n",
      "Requirement already satisfied: packaging in /opt/python/3.10.4/lib/python3.10/site-packages (from ipykernel->jupyter_dash) (21.3)\n",
      "Requirement already satisfied: jupyter-client>=6.1.12 in /opt/python/3.10.4/lib/python3.10/site-packages (from ipykernel->jupyter_dash) (7.3.1)\n",
      "Requirement already satisfied: traitlets>=5.1.0 in /opt/python/3.10.4/lib/python3.10/site-packages (from ipykernel->jupyter_dash) (5.2.0)\n",
      "Requirement already satisfied: matplotlib-inline>=0.1 in /opt/python/3.10.4/lib/python3.10/site-packages (from ipykernel->jupyter_dash) (0.1.3)\n",
      "Requirement already satisfied: debugpy>=1.0 in /opt/python/3.10.4/lib/python3.10/site-packages (from ipykernel->jupyter_dash) (1.6.0)\n",
      "Requirement already satisfied: decorator in /opt/python/3.10.4/lib/python3.10/site-packages (from ipython->jupyter_dash) (5.1.1)\n",
      "Requirement already satisfied: jedi>=0.16 in /opt/python/3.10.4/lib/python3.10/site-packages (from ipython->jupyter_dash) (0.18.1)\n",
      "Requirement already satisfied: backcall in /opt/python/3.10.4/lib/python3.10/site-packages (from ipython->jupyter_dash) (0.2.0)\n",
      "Requirement already satisfied: setuptools>=18.5 in /opt/python/3.10.4/lib/python3.10/site-packages (from ipython->jupyter_dash) (61.3.0)\n",
      "Requirement already satisfied: pygments>=2.4.0 in /opt/python/3.10.4/lib/python3.10/site-packages (from ipython->jupyter_dash) (2.12.0)\n",
      "Requirement already satisfied: prompt-toolkit!=3.0.0,!=3.0.1,<3.1.0,>=2.0.0 in /opt/python/3.10.4/lib/python3.10/site-packages (from ipython->jupyter_dash) (3.0.29)\n",
      "Requirement already satisfied: stack-data in /opt/python/3.10.4/lib/python3.10/site-packages (from ipython->jupyter_dash) (0.2.0)\n",
      "Requirement already satisfied: pexpect>4.3 in /opt/python/3.10.4/lib/python3.10/site-packages (from ipython->jupyter_dash) (4.8.0)\n",
      "Requirement already satisfied: pickleshare in /opt/python/3.10.4/lib/python3.10/site-packages (from ipython->jupyter_dash) (0.7.5)\n",
      "Requirement already satisfied: certifi>=2017.4.17 in /opt/python/3.10.4/lib/python3.10/site-packages (from requests->jupyter_dash) (2021.10.8)\n",
      "Requirement already satisfied: charset-normalizer~=2.0.0 in /opt/python/3.10.4/lib/python3.10/site-packages (from requests->jupyter_dash) (2.0.12)\n",
      "Requirement already satisfied: idna<4,>=2.5 in /opt/python/3.10.4/lib/python3.10/site-packages (from requests->jupyter_dash) (3.3)\n",
      "Requirement already satisfied: urllib3<1.27,>=1.21.1 in /opt/python/3.10.4/lib/python3.10/site-packages (from requests->jupyter_dash) (1.26.9)\n",
      "Requirement already satisfied: six>=1.7.0 in /opt/python/3.10.4/lib/python3.10/site-packages (from retrying->jupyter_dash) (1.16.0)\n",
      "Requirement already satisfied: parso<0.9.0,>=0.8.0 in /opt/python/3.10.4/lib/python3.10/site-packages (from jedi>=0.16->ipython->jupyter_dash) (0.8.3)\n",
      "Requirement already satisfied: MarkupSafe>=2.0 in /opt/python/3.10.4/lib/python3.10/site-packages (from Jinja2>=3.0->flask->jupyter_dash) (2.1.1)\n",
      "Requirement already satisfied: pyzmq>=22.3 in /opt/python/3.10.4/lib/python3.10/site-packages (from jupyter-client>=6.1.12->ipykernel->jupyter_dash) (22.3.0)\n",
      "Requirement already satisfied: entrypoints in /opt/python/3.10.4/lib/python3.10/site-packages (from jupyter-client>=6.1.12->ipykernel->jupyter_dash) (0.4)\n",
      "Requirement already satisfied: jupyter-core>=4.9.2 in /opt/python/3.10.4/lib/python3.10/site-packages (from jupyter-client>=6.1.12->ipykernel->jupyter_dash) (4.10.0)\n",
      "Requirement already satisfied: python-dateutil>=2.8.2 in /opt/python/3.10.4/lib/python3.10/site-packages (from jupyter-client>=6.1.12->ipykernel->jupyter_dash) (2.8.2)\n",
      "Requirement already satisfied: ptyprocess>=0.5 in /opt/python/3.10.4/lib/python3.10/site-packages (from pexpect>4.3->ipython->jupyter_dash) (0.7.0)\n",
      "Requirement already satisfied: tenacity>=6.2.0 in /opt/python/3.10.4/lib/python3.10/site-packages (from plotly>=5.0.0->dash->jupyter_dash) (8.0.1)\n",
      "Requirement already satisfied: wcwidth in /opt/python/3.10.4/lib/python3.10/site-packages (from prompt-toolkit!=3.0.0,!=3.0.1,<3.1.0,>=2.0.0->ipython->jupyter_dash) (0.2.5)\n",
      "Requirement already satisfied: brotli in /opt/python/3.10.4/lib/python3.10/site-packages (from flask-compress->dash->jupyter_dash) (1.0.9)\n",
      "Requirement already satisfied: pyparsing!=3.0.5,>=2.0.2 in /opt/python/3.10.4/lib/python3.10/site-packages (from packaging->ipykernel->jupyter_dash) (3.0.9)\n",
      "Requirement already satisfied: executing in /opt/python/3.10.4/lib/python3.10/site-packages (from stack-data->ipython->jupyter_dash) (0.8.3)\n",
      "Requirement already satisfied: pure-eval in /opt/python/3.10.4/lib/python3.10/site-packages (from stack-data->ipython->jupyter_dash) (0.2.2)\n",
      "Requirement already satisfied: asttokens in /opt/python/3.10.4/lib/python3.10/site-packages (from stack-data->ipython->jupyter_dash) (2.0.5)\n",
      "Building wheels for collected packages: retrying\n",
      "  Building wheel for retrying (setup.py) ... \u001b[?25ldone\n",
      "\u001b[?25h  Created wheel for retrying: filename=retrying-1.3.3-py3-none-any.whl size=11447 sha256=adb1f6992505217532cbc81ca89d50da2294bd1d4f3ab3c0f02b750f17d8f12b\n",
      "  Stored in directory: /home/codespace/.cache/pip/wheels/21/0a/27/62f77273aa12fefb20b9b277f1e937f98ae16dbd04ffa2b93a\n",
      "Successfully built retrying\n",
      "Installing collected packages: retrying, ansi2html, jupyter_dash\n",
      "\u001b[33m  WARNING: The script ansi2html is installed in '/opt/python/3.10.4/bin' which is not on PATH.\n",
      "  Consider adding this directory to PATH or, if you prefer to suppress this warning, use --no-warn-script-location.\u001b[0m\u001b[33m\n",
      "\u001b[0mSuccessfully installed ansi2html-1.7.0 jupyter_dash-0.4.2 retrying-1.3.3\n",
      "\u001b[33mWARNING: There was an error checking the latest version of pip.\u001b[0m\u001b[33m\n",
      "\u001b[0mNote: you may need to restart the kernel to use updated packages.\n"
     ]
    }
   ],
   "source": [
    "%pip install jupyter_dash"
   ]
  },
  {
   "cell_type": "code",
   "execution_count": 1,
   "metadata": {},
   "outputs": [],
   "source": [
    "from plotly.subplots import make_subplots\n",
    "import plotly.graph_objects as go\n",
    "from jupyter_dash import JupyterDash\n",
    "from dash import dash_table\n",
    "from dash import dcc , html, dash_table\n",
    "from dash.dependencies import Input, Output\n",
    "\n",
    "from dash.dash_table.Format import Format, Scheme, Sign, Symbol\n",
    "from dash.dash_table import FormatTemplate\n",
    "import pandas as pd\n",
    "import sqlite3 as sl3\n",
    "#print(plotly.version)"
   ]
  },
  {
   "cell_type": "markdown",
   "metadata": {},
   "source": []
  },
  {
   "cell_type": "code",
   "execution_count": 6,
   "metadata": {},
   "outputs": [],
   "source": [
    "#JupyterDash.infer_jupyter_proxy_config()  #  Need this for binder to work."
   ]
  },
  {
   "cell_type": "code",
   "execution_count": 2,
   "metadata": {},
   "outputs": [],
   "source": [
    "conn = sl3.connect('fash.db')\n",
    "qry = \"select * from sales\"\n",
    "df = pd.read_sql(qry, con=conn)\n",
    "#df.to_csv('fashion.csv',index=False)\n",
    "\n",
    "prod_des = 100 *  \\\n",
    "            pd.crosstab(index = df['product'], columns=df['designer'],margins= False,normalize= 'index')\n",
    "\n",
    "#columns =  [{\"name\": i, \"id\": i,'type':'numeric','format':Format(precision=4)} for i in prod_des.columns]\n",
    "money = FormatTemplate.money(2)\n",
    "columns =  [{\"name\": i, \"id\": i,'type':'numeric','format':money} for i in prod_des.columns]\n",
    "\n",
    "app = JupyterDash(__name__)\n",
    "app.layout = html.Div([\n",
    "    html.H1(\"Fashion Demo\"),\n",
    "      dash_table.DataTable(\n",
    "        id='table',\n",
    "        columns=columns,\n",
    "        data=prod_des.to_dict('records'),\n",
    "        style_cell=dict(textAlign='right'),\n",
    "        style_header=dict(backgroundColor=\"paleturquoise\"),\n",
    "        style_data=dict(backgroundColor=\"lavender\")\n",
    "    ),\n",
    "    html.H2(),\n",
    "     html.Label([\n",
    "        \"Choose brand\",\n",
    "        dcc.Dropdown(\n",
    "            id='brand', clearable=False,\n",
    "            value='Zegna', options=[{'label': c, 'value': c} for c in set(df['designer'])\n",
    "            ]),\n",
    "    html.H3(),     \n",
    "    html.Label([\n",
    "        \"Choose price cutoff\",\n",
    "        dcc.Dropdown(\n",
    "            id='prc', clearable=False,\n",
    "            value=10.00, options=[{'label':10.00,'value':10.00},{'label':12.00,'value':12.00},{'label':20.00,'value':20.00}]),\n",
    "    html.Div(children=[\n",
    "        dcc.Graph(id=\"graph\")\n",
    "    ]),   \n",
    "    ]),\n",
    "])  ])  \n",
    "\n"
   ]
  },
  {
   "cell_type": "code",
   "execution_count": 3,
   "metadata": {},
   "outputs": [
    {
     "data": {
      "text/html": [
       "\n",
       "        <iframe\n",
       "            width=\"100%\"\n",
       "            height=\"650\"\n",
       "            src=\"http://127.0.0.1:8050/\"\n",
       "            frameborder=\"0\"\n",
       "            allowfullscreen\n",
       "            \n",
       "        ></iframe>\n",
       "        "
      ],
      "text/plain": [
       "<IPython.lib.display.IFrame at 0x7f9547a85f00>"
      ]
     },
     "metadata": {},
     "output_type": "display_data"
    }
   ],
   "source": [
    "@app.callback(Output('graph', 'figure'),Output('table','data'),Input(\"brand\", \"value\"),Input(\"prc\",\"value\") )   \n",
    "def stuff_figure(brand,prc):\n",
    "    fash = df[(df['designer']== brand) & (df['price'] > float(prc))]\n",
    "    fig = make_subplots(rows=1,cols=2,subplot_titles=('Fun and Games','Shits and Giggles'))\n",
    "    fig.add_trace(go.Bar(x=fash['product'],y=fash['day']), row=1, col=1)\n",
    "    fig.add_trace(go.Bar(x=fash['product'],y=fash['store'],orientation='h'), row=1, col=2)\n",
    "    dfa = df[df['price'] > float(prc)] \n",
    "    prod_des = 100 * pd.crosstab(index = dfa['product'], columns=dfa['designer'],margins= False,normalize= 'index')\n",
    "    return fig,prod_des.to_dict('records')\n",
    "   \n",
    "    \n",
    "\n",
    "\n",
    "app.run_server(mode='inline')"
   ]
  },
  {
   "cell_type": "code",
   "execution_count": null,
   "metadata": {},
   "outputs": [],
   "source": []
  }
 ],
 "metadata": {
  "interpreter": {
   "hash": "4f946df053fbf2b937619d3c5458e7af74262f9a954d8797ba0b27400bcafe06"
  },
  "kernelspec": {
   "display_name": "Python 3.10.4 64-bit",
   "language": "python",
   "name": "python3"
  },
  "language_info": {
   "codemirror_mode": {
    "name": "ipython",
    "version": 3
   },
   "file_extension": ".py",
   "mimetype": "text/x-python",
   "name": "python",
   "nbconvert_exporter": "python",
   "pygments_lexer": "ipython3",
   "version": "3.10.4"
  },
  "widgets": {
   "application/vnd.jupyter.widget-state+json": {
    "state": {},
    "version_major": 2,
    "version_minor": 0
   }
  }
 },
 "nbformat": 4,
 "nbformat_minor": 4
}
