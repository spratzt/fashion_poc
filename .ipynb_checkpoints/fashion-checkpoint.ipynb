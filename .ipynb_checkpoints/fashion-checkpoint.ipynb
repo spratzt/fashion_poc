{
 "cells": [
  {
   "cell_type": "code",
   "execution_count": 35,
   "metadata": {},
   "outputs": [],
   "source": [
    "from plotly.subplots import make_subplots\n",
    "import plotly.graph_objects as go\n",
    "from jupyter_dash import JupyterDash\n",
    "import dash_core_components as dcc\n",
    "import dash_html_components as html\n",
    "from dash.dependencies import Input, Output\n",
    "import dash_table\n",
    "from dash_table.Format import Format, Scheme, Sign, Symbol\n",
    "from dash_table import FormatTemplate\n",
    "import pandas as pd\n",
    "import sqlite3 as sl3\n"
   ]
  },
  {
   "cell_type": "code",
   "execution_count": null,
   "metadata": {},
   "outputs": [],
   "source": [
    "JupyterDash.infer_jupyter_proxy_config()  #  Need this for binder to work."
   ]
  },
  {
   "cell_type": "code",
   "execution_count": 36,
   "metadata": {},
   "outputs": [],
   "source": [
    "conn = sl3.connect('fash.db')\n",
    "qry = \"select * from sales\"\n",
    "df = pd.read_sql(qry, con=conn)\n",
    "pd.options.display.float_format = '${:.2f}'.format\n",
    "\n",
    "prod_des = 100 *  \\\n",
    "            pd.crosstab(index = df['product'], columns=df['designer'],margins= False,normalize= 'index')\n",
    "\n",
    "#columns =  [{\"name\": i, \"id\": i,'type':'numeric','format':Format(precision=4)} for i in prod_des.columns]\n",
    "money = FormatTemplate.money(2)\n",
    "columns =  [{\"name\": i, \"id\": i,'type':'numeric','format':money} for i in prod_des.columns]\n",
    "\n",
    "app = JupyterDash(__name__)\n",
    "app.layout = html.Div([\n",
    "    html.H1(\"Fashion Demo\"),\n",
    "      dash_table.DataTable(\n",
    "        id='table',\n",
    "        columns=columns,\n",
    "        data=prod_des.to_dict('records'),\n",
    "        style_cell=dict(textAlign='right'),\n",
    "        style_header=dict(backgroundColor=\"paleturquoise\"),\n",
    "        style_data=dict(backgroundColor=\"lavender\")\n",
    "    ),\n",
    "     html.Label([\n",
    "        \"Choose brand\",\n",
    "        dcc.Dropdown(\n",
    "            id='brand', clearable=False,\n",
    "            value='Zegna', options=[{'label': c, 'value': c} for c in set(df['designer'])\n",
    "            ]),\n",
    "    html.Label([\n",
    "        \"Choose price cutoff\",\n",
    "        dcc.Dropdown(\n",
    "            id='prc', clearable=False,\n",
    "            value=10.00, options=[{'label':10.00,'value':10.00},{'label':20.00,'value':20.00}\n",
    "            ]),\n",
    "    html.Div(children=[\n",
    "        dcc.Graph(id=\"graph\")\n",
    "    ]),   \n",
    "    ]),\n",
    "])  ])  \n",
    "\n",
    "#DataTable(..., columns=[{'id': 'one', 'type':'numeric', 'format': {'specifier': '.2f'}])"
   ]
  },
  {
   "cell_type": "code",
   "execution_count": 37,
   "metadata": {},
   "outputs": [
    {
     "data": {
      "text/html": [
       "\n",
       "        <iframe\n",
       "            width=\"100%\"\n",
       "            height=\"650\"\n",
       "            src=\"http://127.0.0.1:8050/\"\n",
       "            frameborder=\"0\"\n",
       "            allowfullscreen\n",
       "        ></iframe>\n",
       "        "
      ],
      "text/plain": [
       "<IPython.lib.display.IFrame at 0x2096f000d30>"
      ]
     },
     "metadata": {},
     "output_type": "display_data"
    }
   ],
   "source": [
    "@app.callback(Output('graph', 'figure'),Input(\"brand\", \"value\"),Input(\"prc\",\"value\") )   \n",
    "def update_figure(brand,prc):\n",
    "    fash = df[(df['designer']== brand) & (df['price'] > float(prc))]\n",
    "    fig = make_subplots(rows=1,cols=2,subplot_titles=('Plot 1','Plot 2'))\n",
    "    fig.add_trace(go.Bar(x=fash['product'],y=fash['day']), row=1, col=1)\n",
    "    fig.add_trace(go.Bar(x=fash['product'],y=fash['store'],orientation='h'), row=1, col=2)\n",
    "    return fig\n",
    "   \n",
    "    \n",
    "\n",
    "\n",
    "app.run_server(mode='inline')"
   ]
  },
  {
   "cell_type": "code",
   "execution_count": null,
   "metadata": {},
   "outputs": [],
   "source": []
  }
 ],
 "metadata": {
  "kernelspec": {
   "display_name": "Python 3",
   "language": "python",
   "name": "python3"
  },
  "language_info": {
   "codemirror_mode": {
    "name": "ipython",
    "version": 3
   },
   "file_extension": ".py",
   "mimetype": "text/x-python",
   "name": "python",
   "nbconvert_exporter": "python",
   "pygments_lexer": "ipython3",
   "version": "3.8.8"
  },
  "widgets": {
   "application/vnd.jupyter.widget-state+json": {
    "state": {},
    "version_major": 2,
    "version_minor": 0
   }
  }
 },
 "nbformat": 4,
 "nbformat_minor": 4
}
